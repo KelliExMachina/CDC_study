{
 "cells": [
  {
   "cell_type": "code",
   "execution_count": 2,
   "metadata": {},
   "outputs": [],
   "source": [
    "import pandas as pd\n",
    "import numpy as np\n",
    "\n",
    "# Charts\n",
    "import matplotlib.pyplot as plt\n",
    "%matplotlib inline\n",
    "import seaborn as sns\n",
    "\n",
    "# Extras\n",
    "from tqdm import tqdm\n",
    "import warnings\n",
    "warnings.filterwarnings(action='ignore')\n",
    "\n",
    "%load_ext autoreload\n",
    "%autoreload 2\n",
    "\n",
    "pd.set_option('display.max_columns', None)\n",
    "pd.set_option('display.max_rows', 25)"
   ]
  },
  {
   "cell_type": "code",
   "execution_count": 3,
   "metadata": {},
   "outputs": [],
   "source": [
    "orig_df = pd.read_csv('../data/COVID-19_Case_Surveillance_Public_Use_Data.csv')"
   ]
  },
  {
   "cell_type": "code",
   "execution_count": 4,
   "metadata": {},
   "outputs": [
    {
     "data": {
      "text/html": [
       "<div>\n",
       "<style scoped>\n",
       "    .dataframe tbody tr th:only-of-type {\n",
       "        vertical-align: middle;\n",
       "    }\n",
       "\n",
       "    .dataframe tbody tr th {\n",
       "        vertical-align: top;\n",
       "    }\n",
       "\n",
       "    .dataframe thead th {\n",
       "        text-align: right;\n",
       "    }\n",
       "</style>\n",
       "<table border=\"1\" class=\"dataframe\">\n",
       "  <thead>\n",
       "    <tr style=\"text-align: right;\">\n",
       "      <th></th>\n",
       "      <th>cdc_report_dt</th>\n",
       "      <th>pos_spec_dt</th>\n",
       "      <th>onset_dt</th>\n",
       "      <th>current_status</th>\n",
       "      <th>sex</th>\n",
       "      <th>age_group</th>\n",
       "      <th>Race and ethnicity (combined)</th>\n",
       "      <th>hosp_yn</th>\n",
       "      <th>icu_yn</th>\n",
       "      <th>death_yn</th>\n",
       "      <th>medcond_yn</th>\n",
       "    </tr>\n",
       "  </thead>\n",
       "  <tbody>\n",
       "    <tr>\n",
       "      <th>0</th>\n",
       "      <td>2020/06/30</td>\n",
       "      <td>NaN</td>\n",
       "      <td>NaN</td>\n",
       "      <td>Probable Case</td>\n",
       "      <td>Other</td>\n",
       "      <td>0 - 9 Years</td>\n",
       "      <td>Unknown</td>\n",
       "      <td>Unknown</td>\n",
       "      <td>Unknown</td>\n",
       "      <td>No</td>\n",
       "      <td>Unknown</td>\n",
       "    </tr>\n",
       "    <tr>\n",
       "      <th>1</th>\n",
       "      <td>2020/06/30</td>\n",
       "      <td>NaN</td>\n",
       "      <td>NaN</td>\n",
       "      <td>Probable Case</td>\n",
       "      <td>Other</td>\n",
       "      <td>0 - 9 Years</td>\n",
       "      <td>Unknown</td>\n",
       "      <td>Unknown</td>\n",
       "      <td>Unknown</td>\n",
       "      <td>No</td>\n",
       "      <td>Unknown</td>\n",
       "    </tr>\n",
       "    <tr>\n",
       "      <th>2</th>\n",
       "      <td>2020/07/05</td>\n",
       "      <td>NaN</td>\n",
       "      <td>NaN</td>\n",
       "      <td>Laboratory-confirmed case</td>\n",
       "      <td>Other</td>\n",
       "      <td>0 - 9 Years</td>\n",
       "      <td>Unknown</td>\n",
       "      <td>Missing</td>\n",
       "      <td>Missing</td>\n",
       "      <td>Missing</td>\n",
       "      <td>Missing</td>\n",
       "    </tr>\n",
       "    <tr>\n",
       "      <th>3</th>\n",
       "      <td>2020/06/10</td>\n",
       "      <td>NaN</td>\n",
       "      <td>2020/03/27</td>\n",
       "      <td>Probable Case</td>\n",
       "      <td>Other</td>\n",
       "      <td>0 - 9 Years</td>\n",
       "      <td>Unknown</td>\n",
       "      <td>No</td>\n",
       "      <td>Unknown</td>\n",
       "      <td>No</td>\n",
       "      <td>Unknown</td>\n",
       "    </tr>\n",
       "    <tr>\n",
       "      <th>4</th>\n",
       "      <td>2020/07/13</td>\n",
       "      <td>NaN</td>\n",
       "      <td>2020/04/20</td>\n",
       "      <td>Probable Case</td>\n",
       "      <td>Other</td>\n",
       "      <td>0 - 9 Years</td>\n",
       "      <td>Unknown</td>\n",
       "      <td>No</td>\n",
       "      <td>Unknown</td>\n",
       "      <td>No</td>\n",
       "      <td>Unknown</td>\n",
       "    </tr>\n",
       "  </tbody>\n",
       "</table>\n",
       "</div>"
      ],
      "text/plain": [
       "  cdc_report_dt pos_spec_dt    onset_dt             current_status    sex  \\\n",
       "0    2020/06/30         NaN         NaN              Probable Case  Other   \n",
       "1    2020/06/30         NaN         NaN              Probable Case  Other   \n",
       "2    2020/07/05         NaN         NaN  Laboratory-confirmed case  Other   \n",
       "3    2020/06/10         NaN  2020/03/27              Probable Case  Other   \n",
       "4    2020/07/13         NaN  2020/04/20              Probable Case  Other   \n",
       "\n",
       "     age_group Race and ethnicity (combined)  hosp_yn   icu_yn death_yn  \\\n",
       "0  0 - 9 Years                       Unknown  Unknown  Unknown       No   \n",
       "1  0 - 9 Years                       Unknown  Unknown  Unknown       No   \n",
       "2  0 - 9 Years                       Unknown  Missing  Missing  Missing   \n",
       "3  0 - 9 Years                       Unknown       No  Unknown       No   \n",
       "4  0 - 9 Years                       Unknown       No  Unknown       No   \n",
       "\n",
       "  medcond_yn  \n",
       "0    Unknown  \n",
       "1    Unknown  \n",
       "2    Missing  \n",
       "3    Unknown  \n",
       "4    Unknown  "
      ]
     },
     "execution_count": 4,
     "metadata": {},
     "output_type": "execute_result"
    }
   ],
   "source": [
    "orig_df.head()"
   ]
  },
  {
   "cell_type": "code",
   "execution_count": 5,
   "metadata": {},
   "outputs": [
    {
     "data": {
      "text/plain": [
       "Index(['cdc_report_dt', 'pos_spec_dt', 'onset_dt', 'current_status', 'sex',\n",
       "       'age_group', 'Race and ethnicity (combined)', 'hosp_yn', 'icu_yn',\n",
       "       'death_yn', 'medcond_yn'],\n",
       "      dtype='object')"
      ]
     },
     "execution_count": 5,
     "metadata": {},
     "output_type": "execute_result"
    }
   ],
   "source": [
    "orig_df.columns"
   ]
  },
  {
   "cell_type": "code",
   "execution_count": 6,
   "metadata": {},
   "outputs": [
    {
     "data": {
      "text/plain": [
       "cdc_report_dt                    object\n",
       "pos_spec_dt                      object\n",
       "onset_dt                         object\n",
       "current_status                   object\n",
       "sex                              object\n",
       "age_group                        object\n",
       "Race and ethnicity (combined)    object\n",
       "hosp_yn                          object\n",
       "icu_yn                           object\n",
       "death_yn                         object\n",
       "medcond_yn                       object\n",
       "dtype: object"
      ]
     },
     "execution_count": 6,
     "metadata": {},
     "output_type": "execute_result"
    }
   ],
   "source": [
    "orig_df.dtypes"
   ]
  },
  {
   "cell_type": "code",
   "execution_count": 7,
   "metadata": {},
   "outputs": [
    {
     "data": {
      "text/plain": [
       "Female     2964314\n",
       "Male       2728309\n",
       "Unknown      56083\n",
       "Missing      11229\n",
       "Other          116\n",
       "Name: sex, dtype: int64"
      ]
     },
     "execution_count": 7,
     "metadata": {},
     "output_type": "execute_result"
    }
   ],
   "source": [
    "orig_df.sex.value_counts()"
   ]
  },
  {
   "cell_type": "code",
   "execution_count": 8,
   "metadata": {},
   "outputs": [
    {
     "data": {
      "text/plain": [
       "No         2662955\n",
       "Missing    2321809\n",
       "Unknown     617047\n",
       "Yes         158255\n",
       "Name: death_yn, dtype: int64"
      ]
     },
     "execution_count": 8,
     "metadata": {},
     "output_type": "execute_result"
    }
   ],
   "source": [
    "orig_df.death_yn.value_counts()"
   ]
  },
  {
   "cell_type": "markdown",
   "metadata": {},
   "source": [
    "# Begin EDA"
   ]
  },
  {
   "cell_type": "code",
   "execution_count": 9,
   "metadata": {},
   "outputs": [],
   "source": [
    "working_df = orig_df.copy(deep=True)"
   ]
  },
  {
   "cell_type": "code",
   "execution_count": 10,
   "metadata": {},
   "outputs": [
    {
     "data": {
      "text/html": [
       "<div>\n",
       "<style scoped>\n",
       "    .dataframe tbody tr th:only-of-type {\n",
       "        vertical-align: middle;\n",
       "    }\n",
       "\n",
       "    .dataframe tbody tr th {\n",
       "        vertical-align: top;\n",
       "    }\n",
       "\n",
       "    .dataframe thead th {\n",
       "        text-align: right;\n",
       "    }\n",
       "</style>\n",
       "<table border=\"1\" class=\"dataframe\">\n",
       "  <thead>\n",
       "    <tr style=\"text-align: right;\">\n",
       "      <th></th>\n",
       "      <th>cdc_report_dt</th>\n",
       "      <th>pos_spec_dt</th>\n",
       "      <th>onset_dt</th>\n",
       "      <th>current_status</th>\n",
       "      <th>sex</th>\n",
       "      <th>age_group</th>\n",
       "      <th>Race and ethnicity (combined)</th>\n",
       "      <th>hosp_yn</th>\n",
       "      <th>icu_yn</th>\n",
       "      <th>death_yn</th>\n",
       "      <th>medcond_yn</th>\n",
       "    </tr>\n",
       "  </thead>\n",
       "  <tbody>\n",
       "    <tr>\n",
       "      <th>0</th>\n",
       "      <td>2020/06/30</td>\n",
       "      <td>NaN</td>\n",
       "      <td>NaN</td>\n",
       "      <td>Probable Case</td>\n",
       "      <td>Other</td>\n",
       "      <td>0 - 9 Years</td>\n",
       "      <td>Unknown</td>\n",
       "      <td>Unknown</td>\n",
       "      <td>Unknown</td>\n",
       "      <td>No</td>\n",
       "      <td>Unknown</td>\n",
       "    </tr>\n",
       "    <tr>\n",
       "      <th>1</th>\n",
       "      <td>2020/06/30</td>\n",
       "      <td>NaN</td>\n",
       "      <td>NaN</td>\n",
       "      <td>Probable Case</td>\n",
       "      <td>Other</td>\n",
       "      <td>0 - 9 Years</td>\n",
       "      <td>Unknown</td>\n",
       "      <td>Unknown</td>\n",
       "      <td>Unknown</td>\n",
       "      <td>No</td>\n",
       "      <td>Unknown</td>\n",
       "    </tr>\n",
       "    <tr>\n",
       "      <th>2</th>\n",
       "      <td>2020/07/05</td>\n",
       "      <td>NaN</td>\n",
       "      <td>NaN</td>\n",
       "      <td>Laboratory-confirmed case</td>\n",
       "      <td>Other</td>\n",
       "      <td>0 - 9 Years</td>\n",
       "      <td>Unknown</td>\n",
       "      <td>Missing</td>\n",
       "      <td>Missing</td>\n",
       "      <td>Missing</td>\n",
       "      <td>Missing</td>\n",
       "    </tr>\n",
       "    <tr>\n",
       "      <th>3</th>\n",
       "      <td>2020/06/10</td>\n",
       "      <td>NaN</td>\n",
       "      <td>2020/03/27</td>\n",
       "      <td>Probable Case</td>\n",
       "      <td>Other</td>\n",
       "      <td>0 - 9 Years</td>\n",
       "      <td>Unknown</td>\n",
       "      <td>No</td>\n",
       "      <td>Unknown</td>\n",
       "      <td>No</td>\n",
       "      <td>Unknown</td>\n",
       "    </tr>\n",
       "    <tr>\n",
       "      <th>4</th>\n",
       "      <td>2020/07/13</td>\n",
       "      <td>NaN</td>\n",
       "      <td>2020/04/20</td>\n",
       "      <td>Probable Case</td>\n",
       "      <td>Other</td>\n",
       "      <td>0 - 9 Years</td>\n",
       "      <td>Unknown</td>\n",
       "      <td>No</td>\n",
       "      <td>Unknown</td>\n",
       "      <td>No</td>\n",
       "      <td>Unknown</td>\n",
       "    </tr>\n",
       "  </tbody>\n",
       "</table>\n",
       "</div>"
      ],
      "text/plain": [
       "  cdc_report_dt pos_spec_dt    onset_dt             current_status    sex  \\\n",
       "0    2020/06/30         NaN         NaN              Probable Case  Other   \n",
       "1    2020/06/30         NaN         NaN              Probable Case  Other   \n",
       "2    2020/07/05         NaN         NaN  Laboratory-confirmed case  Other   \n",
       "3    2020/06/10         NaN  2020/03/27              Probable Case  Other   \n",
       "4    2020/07/13         NaN  2020/04/20              Probable Case  Other   \n",
       "\n",
       "     age_group Race and ethnicity (combined)  hosp_yn   icu_yn death_yn  \\\n",
       "0  0 - 9 Years                       Unknown  Unknown  Unknown       No   \n",
       "1  0 - 9 Years                       Unknown  Unknown  Unknown       No   \n",
       "2  0 - 9 Years                       Unknown  Missing  Missing  Missing   \n",
       "3  0 - 9 Years                       Unknown       No  Unknown       No   \n",
       "4  0 - 9 Years                       Unknown       No  Unknown       No   \n",
       "\n",
       "  medcond_yn  \n",
       "0    Unknown  \n",
       "1    Unknown  \n",
       "2    Missing  \n",
       "3    Unknown  \n",
       "4    Unknown  "
      ]
     },
     "execution_count": 10,
     "metadata": {},
     "output_type": "execute_result"
    }
   ],
   "source": [
    "working_df.head()"
   ]
  },
  {
   "cell_type": "code",
   "execution_count": 11,
   "metadata": {},
   "outputs": [],
   "source": [
    "working_df.cdc_report_dt = pd.to_datetime(working_df['cdc_report_dt'], format='%Y/%m/%d') # convert date column\n",
    "working_df.rename(columns={'Race and ethnicity (combined)':'race'},inplace=True) # rename for spaces and punctuation"
   ]
  },
  {
   "cell_type": "code",
   "execution_count": 12,
   "metadata": {},
   "outputs": [
    {
     "data": {
      "text/html": [
       "<div>\n",
       "<style scoped>\n",
       "    .dataframe tbody tr th:only-of-type {\n",
       "        vertical-align: middle;\n",
       "    }\n",
       "\n",
       "    .dataframe tbody tr th {\n",
       "        vertical-align: top;\n",
       "    }\n",
       "\n",
       "    .dataframe thead th {\n",
       "        text-align: right;\n",
       "    }\n",
       "</style>\n",
       "<table border=\"1\" class=\"dataframe\">\n",
       "  <thead>\n",
       "    <tr style=\"text-align: right;\">\n",
       "      <th></th>\n",
       "      <th>cdc_report_dt</th>\n",
       "      <th>pos_spec_dt</th>\n",
       "      <th>onset_dt</th>\n",
       "      <th>current_status</th>\n",
       "      <th>sex</th>\n",
       "      <th>age_group</th>\n",
       "      <th>race</th>\n",
       "      <th>hosp_yn</th>\n",
       "      <th>icu_yn</th>\n",
       "      <th>death_yn</th>\n",
       "      <th>medcond_yn</th>\n",
       "    </tr>\n",
       "  </thead>\n",
       "  <tbody>\n",
       "    <tr>\n",
       "      <th>0</th>\n",
       "      <td>2020-06-30</td>\n",
       "      <td>NaN</td>\n",
       "      <td>NaN</td>\n",
       "      <td>Probable Case</td>\n",
       "      <td>Other</td>\n",
       "      <td>0 - 9 Years</td>\n",
       "      <td>Unknown</td>\n",
       "      <td>Unknown</td>\n",
       "      <td>Unknown</td>\n",
       "      <td>No</td>\n",
       "      <td>Unknown</td>\n",
       "    </tr>\n",
       "    <tr>\n",
       "      <th>1</th>\n",
       "      <td>2020-06-30</td>\n",
       "      <td>NaN</td>\n",
       "      <td>NaN</td>\n",
       "      <td>Probable Case</td>\n",
       "      <td>Other</td>\n",
       "      <td>0 - 9 Years</td>\n",
       "      <td>Unknown</td>\n",
       "      <td>Unknown</td>\n",
       "      <td>Unknown</td>\n",
       "      <td>No</td>\n",
       "      <td>Unknown</td>\n",
       "    </tr>\n",
       "    <tr>\n",
       "      <th>2</th>\n",
       "      <td>2020-07-05</td>\n",
       "      <td>NaN</td>\n",
       "      <td>NaN</td>\n",
       "      <td>Laboratory-confirmed case</td>\n",
       "      <td>Other</td>\n",
       "      <td>0 - 9 Years</td>\n",
       "      <td>Unknown</td>\n",
       "      <td>Missing</td>\n",
       "      <td>Missing</td>\n",
       "      <td>Missing</td>\n",
       "      <td>Missing</td>\n",
       "    </tr>\n",
       "    <tr>\n",
       "      <th>3</th>\n",
       "      <td>2020-06-10</td>\n",
       "      <td>NaN</td>\n",
       "      <td>2020/03/27</td>\n",
       "      <td>Probable Case</td>\n",
       "      <td>Other</td>\n",
       "      <td>0 - 9 Years</td>\n",
       "      <td>Unknown</td>\n",
       "      <td>No</td>\n",
       "      <td>Unknown</td>\n",
       "      <td>No</td>\n",
       "      <td>Unknown</td>\n",
       "    </tr>\n",
       "    <tr>\n",
       "      <th>4</th>\n",
       "      <td>2020-07-13</td>\n",
       "      <td>NaN</td>\n",
       "      <td>2020/04/20</td>\n",
       "      <td>Probable Case</td>\n",
       "      <td>Other</td>\n",
       "      <td>0 - 9 Years</td>\n",
       "      <td>Unknown</td>\n",
       "      <td>No</td>\n",
       "      <td>Unknown</td>\n",
       "      <td>No</td>\n",
       "      <td>Unknown</td>\n",
       "    </tr>\n",
       "  </tbody>\n",
       "</table>\n",
       "</div>"
      ],
      "text/plain": [
       "  cdc_report_dt pos_spec_dt    onset_dt             current_status    sex  \\\n",
       "0    2020-06-30         NaN         NaN              Probable Case  Other   \n",
       "1    2020-06-30         NaN         NaN              Probable Case  Other   \n",
       "2    2020-07-05         NaN         NaN  Laboratory-confirmed case  Other   \n",
       "3    2020-06-10         NaN  2020/03/27              Probable Case  Other   \n",
       "4    2020-07-13         NaN  2020/04/20              Probable Case  Other   \n",
       "\n",
       "     age_group     race  hosp_yn   icu_yn death_yn medcond_yn  \n",
       "0  0 - 9 Years  Unknown  Unknown  Unknown       No    Unknown  \n",
       "1  0 - 9 Years  Unknown  Unknown  Unknown       No    Unknown  \n",
       "2  0 - 9 Years  Unknown  Missing  Missing  Missing    Missing  \n",
       "3  0 - 9 Years  Unknown       No  Unknown       No    Unknown  \n",
       "4  0 - 9 Years  Unknown       No  Unknown       No    Unknown  "
      ]
     },
     "execution_count": 12,
     "metadata": {},
     "output_type": "execute_result"
    }
   ],
   "source": [
    "working_df.head()"
   ]
  },
  {
   "cell_type": "code",
   "execution_count": 13,
   "metadata": {},
   "outputs": [
    {
     "name": "stderr",
     "output_type": "stream",
     "text": [
      "  0%|          | 0/11 [00:00<?, ?it/s]"
     ]
    },
    {
     "name": "stdout",
     "output_type": "stream",
     "text": [
      "\n",
      "cdc_report_dt value counts:\n",
      "\n",
      "2020-06-24    155484\n",
      "2020-09-05    117703\n",
      "2020-05-26     90948\n",
      "2020-06-10     87186\n",
      "2020-07-13     79539\n",
      "               ...  \n",
      "2020-01-12         1\n",
      "2020-01-28         1\n",
      "2020-01-19         1\n",
      "2020-01-08         1\n",
      "2020-01-05         1\n",
      "Name: cdc_report_dt, Length: 286, dtype: int64\n",
      "\n",
      "pos_spec_dt value counts:\n",
      "\n"
     ]
    },
    {
     "name": "stderr",
     "output_type": "stream",
     "text": [
      " 18%|█▊        | 2/11 [00:00<00:01,  5.34it/s]"
     ]
    },
    {
     "name": "stdout",
     "output_type": "stream",
     "text": [
      "2020/04/06    17952\n",
      "2020/04/07    16850\n",
      "2020/03/30    16329\n",
      "2020/04/08    15622\n",
      "2020/04/03    15465\n",
      "              ...  \n",
      "2020/02/06        1\n",
      "2020/02/10        1\n",
      "2020/02/18        1\n",
      "2020/02/16        1\n",
      "2020/01/04        1\n",
      "Name: pos_spec_dt, Length: 269, dtype: int64\n",
      "\n",
      "onset_dt value counts:\n",
      "\n"
     ]
    },
    {
     "name": "stderr",
     "output_type": "stream",
     "text": [
      " 27%|██▋       | 3/11 [00:00<00:02,  3.84it/s]"
     ]
    },
    {
     "name": "stdout",
     "output_type": "stream",
     "text": [
      "2020/07/06    26944\n",
      "2020/07/13    24990\n",
      "2020/07/07    23878\n",
      "2020/07/01    23813\n",
      "2020/07/20    23452\n",
      "              ...  \n",
      "2020/01/04        7\n",
      "2020/01/19        6\n",
      "2020/01/08        5\n",
      "2020/01/16        5\n",
      "2020/01/09        3\n",
      "Name: onset_dt, Length: 304, dtype: int64\n",
      "\n",
      "current_status value counts:\n",
      "\n"
     ]
    },
    {
     "name": "stderr",
     "output_type": "stream",
     "text": [
      " 36%|███▋      | 4/11 [00:01<00:02,  2.98it/s]"
     ]
    },
    {
     "name": "stdout",
     "output_type": "stream",
     "text": [
      "Laboratory-confirmed case    5462778\n",
      "Probable Case                 297288\n",
      "Name: current_status, dtype: int64\n",
      "\n",
      "sex value counts:\n",
      "\n"
     ]
    },
    {
     "name": "stderr",
     "output_type": "stream",
     "text": [
      " 45%|████▌     | 5/11 [00:01<00:02,  2.67it/s]"
     ]
    },
    {
     "name": "stdout",
     "output_type": "stream",
     "text": [
      "Female     2964314\n",
      "Male       2728309\n",
      "Unknown      56083\n",
      "Missing      11229\n",
      "Other          116\n",
      "Name: sex, dtype: int64\n",
      "\n",
      "age_group value counts:\n",
      "\n"
     ]
    },
    {
     "name": "stderr",
     "output_type": "stream",
     "text": [
      " 55%|█████▍    | 6/11 [00:02<00:02,  2.46it/s]"
     ]
    },
    {
     "name": "stdout",
     "output_type": "stream",
     "text": [
      "20 - 29 Years    1127849\n",
      "30 - 39 Years     944365\n",
      "40 - 49 Years     877761\n",
      "50 - 59 Years     850025\n",
      "60 - 69 Years     595487\n",
      "10 - 19 Years     545036\n",
      "70 - 79 Years     337082\n",
      "80+ Years         284973\n",
      "0 - 9 Years       189430\n",
      "Unknown             7966\n",
      "Name: age_group, dtype: int64\n",
      "\n",
      "race value counts:\n",
      "\n"
     ]
    },
    {
     "name": "stderr",
     "output_type": "stream",
     "text": [
      " 64%|██████▎   | 7/11 [00:02<00:01,  2.30it/s]"
     ]
    },
    {
     "name": "stdout",
     "output_type": "stream",
     "text": [
      "Unknown                                                 2344715\n",
      "White, Non-Hispanic                                     1583387\n",
      "Hispanic/Latino                                          925883\n",
      "Black, Non-Hispanic                                      583662\n",
      "Multiple/Other, Non-Hispanic                             168118\n",
      "Asian, Non-Hispanic                                      101276\n",
      "American Indian/Alaska Native, Non-Hispanic               40991\n",
      "Native Hawaiian/Other Pacific Islander, Non-Hispanic      12024\n",
      "Name: race, dtype: int64\n",
      "\n",
      "hosp_yn value counts:\n",
      "\n"
     ]
    },
    {
     "name": "stderr",
     "output_type": "stream",
     "text": [
      " 73%|███████▎  | 8/11 [00:03<00:01,  2.21it/s]"
     ]
    },
    {
     "name": "stdout",
     "output_type": "stream",
     "text": [
      "No         2549669\n",
      "Missing    2048402\n",
      "Unknown     717791\n",
      "Yes         444204\n",
      "Name: hosp_yn, dtype: int64\n",
      "\n",
      "icu_yn value counts:\n",
      "\n"
     ]
    },
    {
     "name": "stderr",
     "output_type": "stream",
     "text": [
      " 82%|████████▏ | 9/11 [00:03<00:00,  2.19it/s]"
     ]
    },
    {
     "name": "stdout",
     "output_type": "stream",
     "text": [
      "Missing    4153363\n",
      "Unknown     917422\n",
      "No          634175\n",
      "Yes          55106\n",
      "Name: icu_yn, dtype: int64\n",
      "\n",
      "death_yn value counts:\n",
      "\n"
     ]
    },
    {
     "name": "stderr",
     "output_type": "stream",
     "text": [
      " 91%|█████████ | 10/11 [00:04<00:00,  2.11it/s]"
     ]
    },
    {
     "name": "stdout",
     "output_type": "stream",
     "text": [
      "No         2662955\n",
      "Missing    2321809\n",
      "Unknown     617047\n",
      "Yes         158255\n",
      "Name: death_yn, dtype: int64\n",
      "\n",
      "medcond_yn value counts:\n",
      "\n"
     ]
    },
    {
     "name": "stderr",
     "output_type": "stream",
     "text": [
      "100%|██████████| 11/11 [00:04<00:00,  2.32it/s]"
     ]
    },
    {
     "name": "stdout",
     "output_type": "stream",
     "text": [
      "Missing    3976510\n",
      "Yes         647375\n",
      "Unknown     634512\n",
      "No          501669\n",
      "Name: medcond_yn, dtype: int64\n"
     ]
    },
    {
     "name": "stderr",
     "output_type": "stream",
     "text": [
      "\n"
     ]
    }
   ],
   "source": [
    "for column in tqdm(working_df.columns):\n",
    "    print(f'\\n{column} value counts:\\n')\n",
    "    print(working_df[column].value_counts())\n"
   ]
  },
  {
   "cell_type": "code",
   "execution_count": 14,
   "metadata": {},
   "outputs": [
    {
     "data": {
      "text/html": [
       "<div>\n",
       "<style scoped>\n",
       "    .dataframe tbody tr th:only-of-type {\n",
       "        vertical-align: middle;\n",
       "    }\n",
       "\n",
       "    .dataframe tbody tr th {\n",
       "        vertical-align: top;\n",
       "    }\n",
       "\n",
       "    .dataframe thead th {\n",
       "        text-align: right;\n",
       "    }\n",
       "</style>\n",
       "<table border=\"1\" class=\"dataframe\">\n",
       "  <thead>\n",
       "    <tr style=\"text-align: right;\">\n",
       "      <th></th>\n",
       "      <th>cdc_report_dt</th>\n",
       "      <th>pos_spec_dt</th>\n",
       "      <th>onset_dt</th>\n",
       "      <th>current_status</th>\n",
       "      <th>sex</th>\n",
       "      <th>age_group</th>\n",
       "      <th>race</th>\n",
       "      <th>hosp_yn</th>\n",
       "      <th>icu_yn</th>\n",
       "      <th>death_yn</th>\n",
       "      <th>medcond_yn</th>\n",
       "    </tr>\n",
       "  </thead>\n",
       "  <tbody>\n",
       "    <tr>\n",
       "      <th>0</th>\n",
       "      <td>2020-06-30</td>\n",
       "      <td>NaN</td>\n",
       "      <td>NaN</td>\n",
       "      <td>Probable Case</td>\n",
       "      <td>Other</td>\n",
       "      <td>0 - 9 Years</td>\n",
       "      <td>Unknown</td>\n",
       "      <td>Unknown</td>\n",
       "      <td>Unknown</td>\n",
       "      <td>No</td>\n",
       "      <td>Unknown</td>\n",
       "    </tr>\n",
       "    <tr>\n",
       "      <th>1</th>\n",
       "      <td>2020-06-30</td>\n",
       "      <td>NaN</td>\n",
       "      <td>NaN</td>\n",
       "      <td>Probable Case</td>\n",
       "      <td>Other</td>\n",
       "      <td>0 - 9 Years</td>\n",
       "      <td>Unknown</td>\n",
       "      <td>Unknown</td>\n",
       "      <td>Unknown</td>\n",
       "      <td>No</td>\n",
       "      <td>Unknown</td>\n",
       "    </tr>\n",
       "    <tr>\n",
       "      <th>2</th>\n",
       "      <td>2020-07-05</td>\n",
       "      <td>NaN</td>\n",
       "      <td>NaN</td>\n",
       "      <td>Laboratory-confirmed case</td>\n",
       "      <td>Other</td>\n",
       "      <td>0 - 9 Years</td>\n",
       "      <td>Unknown</td>\n",
       "      <td>Missing</td>\n",
       "      <td>Missing</td>\n",
       "      <td>Missing</td>\n",
       "      <td>Missing</td>\n",
       "    </tr>\n",
       "    <tr>\n",
       "      <th>3</th>\n",
       "      <td>2020-06-10</td>\n",
       "      <td>NaN</td>\n",
       "      <td>2020/03/27</td>\n",
       "      <td>Probable Case</td>\n",
       "      <td>Other</td>\n",
       "      <td>0 - 9 Years</td>\n",
       "      <td>Unknown</td>\n",
       "      <td>No</td>\n",
       "      <td>Unknown</td>\n",
       "      <td>No</td>\n",
       "      <td>Unknown</td>\n",
       "    </tr>\n",
       "    <tr>\n",
       "      <th>4</th>\n",
       "      <td>2020-07-13</td>\n",
       "      <td>NaN</td>\n",
       "      <td>2020/04/20</td>\n",
       "      <td>Probable Case</td>\n",
       "      <td>Other</td>\n",
       "      <td>0 - 9 Years</td>\n",
       "      <td>Unknown</td>\n",
       "      <td>No</td>\n",
       "      <td>Unknown</td>\n",
       "      <td>No</td>\n",
       "      <td>Unknown</td>\n",
       "    </tr>\n",
       "  </tbody>\n",
       "</table>\n",
       "</div>"
      ],
      "text/plain": [
       "  cdc_report_dt pos_spec_dt    onset_dt             current_status    sex  \\\n",
       "0    2020-06-30         NaN         NaN              Probable Case  Other   \n",
       "1    2020-06-30         NaN         NaN              Probable Case  Other   \n",
       "2    2020-07-05         NaN         NaN  Laboratory-confirmed case  Other   \n",
       "3    2020-06-10         NaN  2020/03/27              Probable Case  Other   \n",
       "4    2020-07-13         NaN  2020/04/20              Probable Case  Other   \n",
       "\n",
       "     age_group     race  hosp_yn   icu_yn death_yn medcond_yn  \n",
       "0  0 - 9 Years  Unknown  Unknown  Unknown       No    Unknown  \n",
       "1  0 - 9 Years  Unknown  Unknown  Unknown       No    Unknown  \n",
       "2  0 - 9 Years  Unknown  Missing  Missing  Missing    Missing  \n",
       "3  0 - 9 Years  Unknown       No  Unknown       No    Unknown  \n",
       "4  0 - 9 Years  Unknown       No  Unknown       No    Unknown  "
      ]
     },
     "execution_count": 14,
     "metadata": {},
     "output_type": "execute_result"
    }
   ],
   "source": [
    "working_df.head()"
   ]
  },
  {
   "cell_type": "code",
   "execution_count": 15,
   "metadata": {},
   "outputs": [
    {
     "name": "stdout",
     "output_type": "stream",
     "text": [
      "None\n"
     ]
    }
   ],
   "source": [
    "print(working_df.index.name)"
   ]
  },
  {
   "cell_type": "code",
   "execution_count": 16,
   "metadata": {},
   "outputs": [
    {
     "data": {
      "text/plain": [
       "<matplotlib.axes._subplots.AxesSubplot at 0x7fedbff35ba8>"
      ]
     },
     "execution_count": 16,
     "metadata": {},
     "output_type": "execute_result"
    },
    {
     "data": {
      "image/png": "[encoded data removed]",
      "text/plain": [
       "<Figure size 432x288 with 1 Axes>"
      ]
     },
     "metadata": {
      "needs_background": "light"
     },
     "output_type": "display_data"
    }
   ],
   "source": [
    "working_df.sex.value_counts().plot(kind='bar')"
   ]
  },
  {
   "cell_type": "code",
   "execution_count": 17,
   "metadata": {},
   "outputs": [
    {
     "data": {
      "image/png": "[encoded data removed]",
      "text/plain": [
       "<Figure size 2160x2160 with 9 Axes>"
      ]
     },
     "metadata": {
      "needs_background": "light"
     },
     "output_type": "display_data"
    }
   ],
   "source": [
    "columns = ['current_status', 'sex',\n",
    "       'age_group', 'race', 'hosp_yn', 'icu_yn', 'death_yn', 'medcond_yn']\n",
    "\n",
    "fig, axs = plt.subplots(nrows=3, ncols=3)\n",
    "fig.set_size_inches(30, 30)\n",
    "fig.subplots_adjust(wspace=0.2)\n",
    "fig.subplots_adjust(hspace=0.5)\n",
    "\n",
    "\n",
    "for col, ax in zip(columns, axs.flatten()):\n",
    "    dftemp = working_df[col].value_counts()\n",
    "    ax.bar(dftemp.index, list(dftemp))\n",
    "    ax.set_title(col)\n",
    "    ax.tick_params(axis='x', labelrotation=30)\n",
    "plt.show()"
   ]
  },
  {
   "cell_type": "code",
   "execution_count": null,
   "metadata": {},
   "outputs": [],
   "source": []
  }
 ],
 "metadata": {
  "kernelspec": {
   "display_name": "Python [conda env:learn-env]",
   "language": "python",
   "name": "conda-env-learn-env-py"
  },
  "language_info": {
   "codemirror_mode": {
    "name": "ipython",
    "version": 3
   },
   "file_extension": ".py",
   "mimetype": "text/x-python",
   "name": "python",
   "nbconvert_exporter": "python",
   "pygments_lexer": "ipython3",
   "version": "3.6.9"
  }
 },
 "nbformat": 4,
 "nbformat_minor": 4
}
